{
 "cells": [
  {
   "cell_type": "markdown",
   "metadata": {},
   "source": [
    "<img style=\"float: left; margin: 30px 15px 15px 15px;\" src=\"https://pngimage.net/wp-content/uploads/2018/06/logo-iteso-png-5.png\" width=\"300\" height=\"500\" /> \n",
    "    \n",
    "    \n",
    "### <font color='navy'> Simulación de procesos financieros. \n",
    "\n",
    "**Nombres:** Betsy Torres & Karla Antón.\n",
    "\n",
    "**Fecha:** 20 de octubre del 2020.\n",
    "\n",
    "**Expediente** : , 714572.\n",
    "**Profesor:** Oscar David Jaramillo Zuluaga.\n",
    "\n",
    "# Proyecto"
   ]
  },
  {
   "cell_type": "markdown",
   "metadata": {},
   "source": [
    "## 1. Entregable"
   ]
  },
  {
   "cell_type": "markdown",
   "metadata": {},
   "source": [
    "### Suicidios en México\n",
    "En el proyecto a continuación se busca analizar los casos de suicidio en México, las causas mas comunes, los rangos de edad mas frecuentes en los que se presenta y los estados de la republica con mayor incidencia, esto lo haremos para poder generar una opinion más acertada sobre el tema.\n",
    "Nos pareció un tema de importancia debido al gran impacto que esto tiene sobre la salud pública de nuestro país."
   ]
  },
  {
   "cell_type": "markdown",
   "metadata": {},
   "source": [
    "### Objetivos\n",
    "El objetivo general que proponemos es simular los diferentes escenarios o causas por los cuales ocurren los suicidios en México, para a partir de ello, generar una opinion de valor que promueva la salud pública de nuestro país.\n",
    "Y como objetivos especificos planteamos los siguientes:\n",
    "* Determinar los rangos de edad con mayor frecuencia.\n",
    "* Determinar los estados con mayor incidencia.\n",
    "* Determinar las variables más comumes que afectan a que esto ocurra."
   ]
  },
  {
   "cell_type": "markdown",
   "metadata": {},
   "source": [
    "### Definición del problema\n",
    "Debido a que el suicidio es un tema multifactorial, para llegar a él interactúan muchas variables como lo son el sexo, la edad, el nivel socioeconómico, el estado o país de residencia y otras causas externas como lo son la actual pandemia por la que estamos pasando. A raíz de la pandemia del COVID 19 el suicidio en nuestro país en jóvenes tuvó un incremento del 20% por lo que nos parece de vital importancia generar un análisis sobre lo que ocurre en materia de este tema."
   ]
  },
  {
   "cell_type": "markdown",
   "metadata": {},
   "source": [
    "### Nodos y variables a simular\n",
    "* Estados\n",
    "* Edades\n",
    "* Causas\n",
    "* Sexo\n",
    "\n",
    "**(Diagrama)**"
   ]
  },
  {
   "cell_type": "markdown",
   "metadata": {},
   "source": [
    "### Definición de hipótesis y supuestos\n"
   ]
  },
  {
   "cell_type": "markdown",
   "metadata": {},
   "source": [
    "### Obtención de base de datos\n",
    "La base de datos la obtubivos de la pagina del INEGI (Instituto Nacional de Estadística, Geografía e Informática). Obtuvimos información clasificada por las diferentes causas de suicidio segun el estado de la republica, los años desde 1994 hasta 2018 y las edades de las personas."
   ]
  },
  {
   "cell_type": "code",
   "execution_count": null,
   "metadata": {},
   "outputs": [],
   "source": []
  }
 ],
 "metadata": {
  "kernelspec": {
   "display_name": "Python 3",
   "language": "python",
   "name": "python3"
  },
  "language_info": {
   "codemirror_mode": {
    "name": "ipython",
    "version": 3
   },
   "file_extension": ".py",
   "mimetype": "text/x-python",
   "name": "python",
   "nbconvert_exporter": "python",
   "pygments_lexer": "ipython3",
   "version": "3.6.5"
  }
 },
 "nbformat": 4,
 "nbformat_minor": 2
}
