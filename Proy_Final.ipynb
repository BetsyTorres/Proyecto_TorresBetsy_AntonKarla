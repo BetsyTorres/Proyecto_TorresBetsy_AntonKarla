{
 "cells": [
  {
   "cell_type": "markdown",
   "metadata": {},
   "source": [
    "<img style=\"float: left; margin: 30px 15px 15px 15px;\" src=\"https://pngimage.net/wp-content/uploads/2018/06/logo-iteso-png-5.png\" width=\"300\" height=\"500\" /> \n",
    "    \n",
    "    \n",
    "### <font color='navy'> Simulación de procesos financieros. \n",
    "\n",
    "**Nombres:** Betsy Torres | Karla Antón\n",
    "\n",
    "**Fecha:** 12 noviembre de 2020.\n",
    "\n",
    "**Expediente** : if714095 | if------\n",
    "**Profesor:** Oscar David Jaramillo Zuluaga.\n",
    "\n",
    "# Proyecto Modulo 1"
   ]
  },
  {
   "cell_type": "markdown",
   "metadata": {},
   "source": [
    "### 1.1 Titulo del Trabajo\n",
    "\n",
    "## <span style=\"background-color: YELLOW\"> MUERTES POR SUICIDIO EN MÉXICO\n",
    "\n",
    "\n"
   ]
  },
  {
   "cell_type": "markdown",
   "metadata": {},
   "source": [
    "### 1.2 Objetivos.\n",
    "\n",
    "**Objetivo general**\n",
    "\n",
    "> Analizar el aumento de defunciones, especificamente a causa de suicidios, en México.\n",
    "\n",
    "**Objetivos específicos**\n",
    "\n",
    "Utilizando las bases de datos de inegi, estos son los puntos de interés:\n",
    "> - Verificar el comportamiento del índice de mortalidad.\n",
    "> - simular los comportamientos de los suicidios y como afetan al indice de mortalidad.\n",
    "> - Simular los comportamientos las edades en las que ocurre más el suicido.\n",
    "> - Encontrar como los sucidios influyen en la tasa de mortalidad\n",
    "\n",
    "### 1.3 Definición del problema\n",
    "\n",
    "\n",
    "\n",
    "\n",
    "### 1.4 Nodos y variables que se decidieron simular \n",
    "\n",
    "> - Defunciones\n",
    "> - Defunciones según accidente\n",
    "> - Sucidio según sus causas\n",
    "> - Sucidio según la edad\n",
    "\n",
    "### 1.5 Definición de hipótesis y supuestos.\n",
    "**Supuestos**\n",
    "> - Las muertes en México seguirán aumentando \n",
    "> - Los datos serán suficientes para resultados concluyentes\n",
    "\n",
    "**Hipótesis**\n",
    "\n",
    "\n",
    "### 1.6 Obtención de bases de datos\n",
    "> Bases de datos obtenidas de <https://www.inegi.org.mx>\n"
   ]
  },
  {
   "cell_type": "code",
   "execution_count": 1,
   "metadata": {},
   "outputs": [],
   "source": [
    "# Importamos librerías \n",
    "from functools import reduce\n",
    "import time\n",
    "import matplotlib.pyplot as plt\n",
    "from scipy.stats.distributions import norm\n",
    "import pandas as pd\n",
    "import numpy as np\n",
    "import matplotlib.pyplot as plt\n",
    "from scipy import optimize\n",
    "%matplotlib inline\n",
    "#Para Kernel\n",
    "from sklearn.model_selection import GridSearchCV\n",
    "from sklearn.neighbors import KernelDensity\n",
    "\n",
    "import scipy.stats as st\n",
    "from scipy import optimize as opt\n",
    "\n",
    "from statsmodels.nonparametric.kde import KDEUnivariate\n",
    "from statsmodels.nonparametric.kernel_density import KDEMultivariate\n",
    "\n",
    "import warnings\n",
    "from scipy.stats import gaussian_kde\n",
    "\n",
    "import seaborn as sns\n",
    "\n",
    "import math\n"
   ]
  },
  {
   "cell_type": "code",
   "execution_count": 9,
   "metadata": {},
   "outputs": [
    {
     "data": {
      "text/html": [
       "<div>\n",
       "<style scoped>\n",
       "    .dataframe tbody tr th:only-of-type {\n",
       "        vertical-align: middle;\n",
       "    }\n",
       "\n",
       "    .dataframe tbody tr th {\n",
       "        vertical-align: top;\n",
       "    }\n",
       "\n",
       "    .dataframe thead th {\n",
       "        text-align: right;\n",
       "    }\n",
       "</style>\n",
       "<table border=\"1\" class=\"dataframe\">\n",
       "  <thead>\n",
       "    <tr style=\"text-align: right;\">\n",
       "      <th></th>\n",
       "      <th>2017</th>\n",
       "      <th>2018</th>\n",
       "      <th>2019</th>\n",
       "      <th>Total</th>\n",
       "    </tr>\n",
       "    <tr>\n",
       "      <th>Estados</th>\n",
       "      <th></th>\n",
       "      <th></th>\n",
       "      <th></th>\n",
       "      <th></th>\n",
       "    </tr>\n",
       "  </thead>\n",
       "  <tbody>\n",
       "    <tr>\n",
       "      <th>Total</th>\n",
       "      <td>6559</td>\n",
       "      <td>6808</td>\n",
       "      <td>7223</td>\n",
       "      <td>20590.0</td>\n",
       "    </tr>\n",
       "    <tr>\n",
       "      <th>Aguascalientes</th>\n",
       "      <td>140</td>\n",
       "      <td>140</td>\n",
       "      <td>157</td>\n",
       "      <td>437.0</td>\n",
       "    </tr>\n",
       "    <tr>\n",
       "      <th>Baja California</th>\n",
       "      <td>166</td>\n",
       "      <td>194</td>\n",
       "      <td>169</td>\n",
       "      <td>529.0</td>\n",
       "    </tr>\n",
       "    <tr>\n",
       "      <th>Baja California Sur</th>\n",
       "      <td>47</td>\n",
       "      <td>57</td>\n",
       "      <td>59</td>\n",
       "      <td>163.0</td>\n",
       "    </tr>\n",
       "    <tr>\n",
       "      <th>Campeche</th>\n",
       "      <td>74</td>\n",
       "      <td>69</td>\n",
       "      <td>95</td>\n",
       "      <td>238.0</td>\n",
       "    </tr>\n",
       "  </tbody>\n",
       "</table>\n",
       "</div>"
      ],
      "text/plain": [
       "                     2017  2018  2019    Total\n",
       "Estados                                       \n",
       "Total                6559  6808  7223  20590.0\n",
       "Aguascalientes        140   140   157    437.0\n",
       "Baja California       166   194   169    529.0\n",
       "Baja California Sur    47    57    59    163.0\n",
       "Campeche               74    69    95    238.0"
      ]
     },
     "execution_count": 9,
     "metadata": {},
     "output_type": "execute_result"
    }
   ],
   "source": [
    "suicidios = pd.read_excel('Suicidios_Estados.xlsx', sheet_name='Tabulado', header=None).dropna()\n",
    "suicidios = suicidios.drop(columns=[2,3,4,6,7,8,10,11,12])\n",
    "suicidios.columns=['Estados','2017','2018','2019']\n",
    "suicidios.set_index('Estados', inplace=True)\n",
    "suicidios['Total'] = suicidios.iloc[:,0:3].sum(axis=1) #total suicidios por estado y total de totales por año\n",
    "# suicidios['2017']=suicidios.iloc[:,1].astype('int64')\n",
    "# suicidios['2018']=suicidios.iloc[:,2].astype('int64')\n",
    "# suicidios['2019']=suicidios.iloc[:,3].astype('int64')\n",
    "suicidios.head()"
   ]
  },
  {
   "cell_type": "code",
   "execution_count": 3,
   "metadata": {},
   "outputs": [
    {
     "data": {
      "text/plain": [
       "2173442.0"
      ]
     },
     "execution_count": 3,
     "metadata": {},
     "output_type": "execute_result"
    }
   ],
   "source": [
    "mort = pd.read_excel('Mortalidad.xlsx', sheet_name='Tabulado', header=None).dropna()\n",
    "mort = mort.drop(columns=[2,3,4,6,7,8,10,11,12])\n",
    "mort.columns=['Estados','2017','2018','2019']\n",
    "mort.set_index('Estados', inplace=True)\n",
    "mort['Total'] = mort.iloc[:,0:3].sum(axis=1)\n",
    "# mort.head()\n",
    "mort['Total'].max()"
   ]
  },
  {
   "cell_type": "code",
   "execution_count": 4,
   "metadata": {},
   "outputs": [
    {
     "data": {
      "text/html": [
       "<div>\n",
       "<style scoped>\n",
       "    .dataframe tbody tr th:only-of-type {\n",
       "        vertical-align: middle;\n",
       "    }\n",
       "\n",
       "    .dataframe tbody tr th {\n",
       "        vertical-align: top;\n",
       "    }\n",
       "\n",
       "    .dataframe thead th {\n",
       "        text-align: right;\n",
       "    }\n",
       "</style>\n",
       "<table border=\"1\" class=\"dataframe\">\n",
       "  <thead>\n",
       "    <tr style=\"text-align: right;\">\n",
       "      <th></th>\n",
       "      <th>2010</th>\n",
       "      <th>2011</th>\n",
       "      <th>2012</th>\n",
       "      <th>2013</th>\n",
       "      <th>2014</th>\n",
       "      <th>2015</th>\n",
       "      <th>2016</th>\n",
       "      <th>2017</th>\n",
       "      <th>2018</th>\n",
       "      <th>Total</th>\n",
       "    </tr>\n",
       "    <tr>\n",
       "      <th>Causas</th>\n",
       "      <th></th>\n",
       "      <th></th>\n",
       "      <th></th>\n",
       "      <th></th>\n",
       "      <th></th>\n",
       "      <th></th>\n",
       "      <th></th>\n",
       "      <th></th>\n",
       "      <th></th>\n",
       "      <th></th>\n",
       "    </tr>\n",
       "  </thead>\n",
       "  <tbody>\n",
       "    <tr>\n",
       "      <th>Total</th>\n",
       "      <td>5012</td>\n",
       "      <td>5718</td>\n",
       "      <td>5549</td>\n",
       "      <td>5909</td>\n",
       "      <td>6337</td>\n",
       "      <td>6425</td>\n",
       "      <td>6370</td>\n",
       "      <td>6559</td>\n",
       "      <td>6808</td>\n",
       "      <td>16279.0</td>\n",
       "    </tr>\n",
       "    <tr>\n",
       "      <th>Ahorcamiento, estrangulamiento o sofocación</th>\n",
       "      <td>3847</td>\n",
       "      <td>4406</td>\n",
       "      <td>4291</td>\n",
       "      <td>4554</td>\n",
       "      <td>5000</td>\n",
       "      <td>5092</td>\n",
       "      <td>5145</td>\n",
       "      <td>5266</td>\n",
       "      <td>5486</td>\n",
       "      <td>12544.0</td>\n",
       "    </tr>\n",
       "    <tr>\n",
       "      <th>Disparo de arma de fuego</th>\n",
       "      <td>547</td>\n",
       "      <td>595</td>\n",
       "      <td>524</td>\n",
       "      <td>574</td>\n",
       "      <td>529</td>\n",
       "      <td>573</td>\n",
       "      <td>491</td>\n",
       "      <td>518</td>\n",
       "      <td>515</td>\n",
       "      <td>1666.0</td>\n",
       "    </tr>\n",
       "    <tr>\n",
       "      <th>Envenenamiento</th>\n",
       "      <td>460</td>\n",
       "      <td>523</td>\n",
       "      <td>508</td>\n",
       "      <td>556</td>\n",
       "      <td>577</td>\n",
       "      <td>512</td>\n",
       "      <td>517</td>\n",
       "      <td>517</td>\n",
       "      <td>506</td>\n",
       "      <td>1491.0</td>\n",
       "    </tr>\n",
       "    <tr>\n",
       "      <th>Otras causas</th>\n",
       "      <td>158</td>\n",
       "      <td>194</td>\n",
       "      <td>226</td>\n",
       "      <td>225</td>\n",
       "      <td>231</td>\n",
       "      <td>248</td>\n",
       "      <td>217</td>\n",
       "      <td>258</td>\n",
       "      <td>301</td>\n",
       "      <td>578.0</td>\n",
       "    </tr>\n",
       "  </tbody>\n",
       "</table>\n",
       "</div>"
      ],
      "text/plain": [
       "                                              2010  2011  2012  2013  2014  \\\n",
       "Causas                                                                       \n",
       "Total                                         5012  5718  5549  5909  6337   \n",
       "Ahorcamiento, estrangulamiento o sofocación   3847  4406  4291  4554  5000   \n",
       "Disparo de arma de fuego                       547   595   524   574   529   \n",
       "Envenenamiento                                 460   523   508   556   577   \n",
       "Otras causas                                   158   194   226   225   231   \n",
       "\n",
       "                                              2015  2016  2017  2018    Total  \n",
       "Causas                                                                         \n",
       "Total                                         6425  6370  6559  6808  16279.0  \n",
       "Ahorcamiento, estrangulamiento o sofocación   5092  5145  5266  5486  12544.0  \n",
       "Disparo de arma de fuego                       573   491   518   515   1666.0  \n",
       "Envenenamiento                                 512   517   517   506   1491.0  \n",
       "Otras causas                                   248   217   258   301    578.0  "
      ]
     },
     "execution_count": 4,
     "metadata": {},
     "output_type": "execute_result"
    }
   ],
   "source": [
    "causas = pd.read_excel('Suicidios_Causas2.xlsx', sheet_name='Tabulado', header=None).dropna()\n",
    "causas = causas.drop(columns=[2,3,5,6,8,9,11,12,14,15,17,18,20,21,23,24,26,27])\n",
    "causas.columns=['Causas','2010','2011','2012','2013','2014','2015','2016','2017','2018']\n",
    "causas.set_index('Causas', inplace=True)\n",
    "causas['Total'] = causas.iloc[:,0:3].sum(axis=1)\n",
    "# s_causa.head()\n",
    "causas\n"
   ]
  },
  {
   "cell_type": "code",
   "execution_count": 5,
   "metadata": {},
   "outputs": [
    {
     "data": {
      "text/html": [
       "<div>\n",
       "<style scoped>\n",
       "    .dataframe tbody tr th:only-of-type {\n",
       "        vertical-align: middle;\n",
       "    }\n",
       "\n",
       "    .dataframe tbody tr th {\n",
       "        vertical-align: top;\n",
       "    }\n",
       "\n",
       "    .dataframe thead th {\n",
       "        text-align: right;\n",
       "    }\n",
       "</style>\n",
       "<table border=\"1\" class=\"dataframe\">\n",
       "  <thead>\n",
       "    <tr style=\"text-align: right;\">\n",
       "      <th></th>\n",
       "      <th>2010</th>\n",
       "      <th>2011</th>\n",
       "      <th>2012</th>\n",
       "      <th>2013</th>\n",
       "      <th>2014</th>\n",
       "      <th>2015</th>\n",
       "      <th>2016</th>\n",
       "      <th>2017</th>\n",
       "      <th>2018</th>\n",
       "      <th>Total</th>\n",
       "    </tr>\n",
       "    <tr>\n",
       "      <th>Edad</th>\n",
       "      <th></th>\n",
       "      <th></th>\n",
       "      <th></th>\n",
       "      <th></th>\n",
       "      <th></th>\n",
       "      <th></th>\n",
       "      <th></th>\n",
       "      <th></th>\n",
       "      <th></th>\n",
       "      <th></th>\n",
       "    </tr>\n",
       "  </thead>\n",
       "  <tbody>\n",
       "    <tr>\n",
       "      <th>Total</th>\n",
       "      <td>5012</td>\n",
       "      <td>5718</td>\n",
       "      <td>5549</td>\n",
       "      <td>5909</td>\n",
       "      <td>6337</td>\n",
       "      <td>6425</td>\n",
       "      <td>6370</td>\n",
       "      <td>6559</td>\n",
       "      <td>6808</td>\n",
       "      <td>16279.0</td>\n",
       "    </tr>\n",
       "    <tr>\n",
       "      <th>10 a 14 años</th>\n",
       "      <td>187</td>\n",
       "      <td>249</td>\n",
       "      <td>208</td>\n",
       "      <td>174</td>\n",
       "      <td>243</td>\n",
       "      <td>236</td>\n",
       "      <td>228</td>\n",
       "      <td>209</td>\n",
       "      <td>229</td>\n",
       "      <td>644.0</td>\n",
       "    </tr>\n",
       "    <tr>\n",
       "      <th>15 a 19 años</th>\n",
       "      <td>685</td>\n",
       "      <td>859</td>\n",
       "      <td>826</td>\n",
       "      <td>780</td>\n",
       "      <td>761</td>\n",
       "      <td>861</td>\n",
       "      <td>774</td>\n",
       "      <td>795</td>\n",
       "      <td>800</td>\n",
       "      <td>2370.0</td>\n",
       "    </tr>\n",
       "    <tr>\n",
       "      <th>20 a 24 años</th>\n",
       "      <td>761</td>\n",
       "      <td>916</td>\n",
       "      <td>877</td>\n",
       "      <td>875</td>\n",
       "      <td>1015</td>\n",
       "      <td>1010</td>\n",
       "      <td>1035</td>\n",
       "      <td>1027</td>\n",
       "      <td>1035</td>\n",
       "      <td>2554.0</td>\n",
       "    </tr>\n",
       "    <tr>\n",
       "      <th>25 a 29 años</th>\n",
       "      <td>608</td>\n",
       "      <td>716</td>\n",
       "      <td>662</td>\n",
       "      <td>748</td>\n",
       "      <td>758</td>\n",
       "      <td>788</td>\n",
       "      <td>816</td>\n",
       "      <td>868</td>\n",
       "      <td>890</td>\n",
       "      <td>1986.0</td>\n",
       "    </tr>\n",
       "    <tr>\n",
       "      <th>30 a 34 años</th>\n",
       "      <td>528</td>\n",
       "      <td>559</td>\n",
       "      <td>592</td>\n",
       "      <td>651</td>\n",
       "      <td>684</td>\n",
       "      <td>708</td>\n",
       "      <td>675</td>\n",
       "      <td>746</td>\n",
       "      <td>810</td>\n",
       "      <td>1679.0</td>\n",
       "    </tr>\n",
       "    <tr>\n",
       "      <th>35 a 39 años</th>\n",
       "      <td>549</td>\n",
       "      <td>521</td>\n",
       "      <td>535</td>\n",
       "      <td>574</td>\n",
       "      <td>649</td>\n",
       "      <td>653</td>\n",
       "      <td>628</td>\n",
       "      <td>652</td>\n",
       "      <td>690</td>\n",
       "      <td>1605.0</td>\n",
       "    </tr>\n",
       "    <tr>\n",
       "      <th>40 a 44 años</th>\n",
       "      <td>352</td>\n",
       "      <td>448</td>\n",
       "      <td>438</td>\n",
       "      <td>514</td>\n",
       "      <td>520</td>\n",
       "      <td>528</td>\n",
       "      <td>552</td>\n",
       "      <td>551</td>\n",
       "      <td>559</td>\n",
       "      <td>1238.0</td>\n",
       "    </tr>\n",
       "    <tr>\n",
       "      <th>45 a 49 años</th>\n",
       "      <td>320</td>\n",
       "      <td>346</td>\n",
       "      <td>332</td>\n",
       "      <td>405</td>\n",
       "      <td>419</td>\n",
       "      <td>421</td>\n",
       "      <td>414</td>\n",
       "      <td>428</td>\n",
       "      <td>472</td>\n",
       "      <td>998.0</td>\n",
       "    </tr>\n",
       "    <tr>\n",
       "      <th>50 a 54 años</th>\n",
       "      <td>244</td>\n",
       "      <td>271</td>\n",
       "      <td>253</td>\n",
       "      <td>285</td>\n",
       "      <td>335</td>\n",
       "      <td>303</td>\n",
       "      <td>320</td>\n",
       "      <td>352</td>\n",
       "      <td>376</td>\n",
       "      <td>768.0</td>\n",
       "    </tr>\n",
       "    <tr>\n",
       "      <th>55 a 59 años</th>\n",
       "      <td>183</td>\n",
       "      <td>199</td>\n",
       "      <td>202</td>\n",
       "      <td>260</td>\n",
       "      <td>276</td>\n",
       "      <td>225</td>\n",
       "      <td>249</td>\n",
       "      <td>243</td>\n",
       "      <td>255</td>\n",
       "      <td>584.0</td>\n",
       "    </tr>\n",
       "    <tr>\n",
       "      <th>60 años y más</th>\n",
       "      <td>549</td>\n",
       "      <td>585</td>\n",
       "      <td>589</td>\n",
       "      <td>594</td>\n",
       "      <td>630</td>\n",
       "      <td>636</td>\n",
       "      <td>623</td>\n",
       "      <td>614</td>\n",
       "      <td>600</td>\n",
       "      <td>1723.0</td>\n",
       "    </tr>\n",
       "    <tr>\n",
       "      <th>No especificado</th>\n",
       "      <td>46</td>\n",
       "      <td>49</td>\n",
       "      <td>35</td>\n",
       "      <td>49</td>\n",
       "      <td>47</td>\n",
       "      <td>56</td>\n",
       "      <td>56</td>\n",
       "      <td>74</td>\n",
       "      <td>92</td>\n",
       "      <td>130.0</td>\n",
       "    </tr>\n",
       "  </tbody>\n",
       "</table>\n",
       "</div>"
      ],
      "text/plain": [
       "                 2010  2011  2012  2013  2014  2015  2016  2017  2018    Total\n",
       "Edad                                                                          \n",
       "Total            5012  5718  5549  5909  6337  6425  6370  6559  6808  16279.0\n",
       "10 a 14 años      187   249   208   174   243   236   228   209   229    644.0\n",
       "15 a 19 años      685   859   826   780   761   861   774   795   800   2370.0\n",
       "20 a 24 años      761   916   877   875  1015  1010  1035  1027  1035   2554.0\n",
       "25 a 29 años      608   716   662   748   758   788   816   868   890   1986.0\n",
       "30 a 34 años      528   559   592   651   684   708   675   746   810   1679.0\n",
       "35 a 39 años      549   521   535   574   649   653   628   652   690   1605.0\n",
       "40 a 44 años      352   448   438   514   520   528   552   551   559   1238.0\n",
       "45 a 49 años      320   346   332   405   419   421   414   428   472    998.0\n",
       "50 a 54 años      244   271   253   285   335   303   320   352   376    768.0\n",
       "55 a 59 años      183   199   202   260   276   225   249   243   255    584.0\n",
       "60 años y más     549   585   589   594   630   636   623   614   600   1723.0\n",
       "No especificado    46    49    35    49    47    56    56    74    92    130.0"
      ]
     },
     "execution_count": 5,
     "metadata": {},
     "output_type": "execute_result"
    }
   ],
   "source": [
    "edad = pd.read_excel('Suicidios_Edad.xlsx', sheet_name='Tabulado', header=None).dropna()\n",
    "edad = edad.drop(columns=[2,3,5,6,8,9,11,12,14,15,17,18,20,21,23,24,26,27])\n",
    "edad.columns=['Edad','2010','2011','2012','2013','2014','2015','2016','2017','2018']\n",
    "edad.set_index('Edad', inplace=True)\n",
    "edad['Total'] = edad.iloc[:,0:3].sum(axis=1)\n",
    "edad"
   ]
  },
  {
   "cell_type": "markdown",
   "metadata": {},
   "source": [
    "# <span style=\"background-color: red\"> NODO DE SUICIDIOS"
   ]
  },
  {
   "cell_type": "code",
   "execution_count": 10,
   "metadata": {},
   "outputs": [
    {
     "data": {
      "image/png": "[encoded data removed]",
      "text/plain": [
       "<Figure size 1224x360 with 1 Axes>"
      ]
     },
     "metadata": {
      "needs_background": "light"
     },
     "output_type": "display_data"
    }
   ],
   "source": [
    "# suic = pd.DataFrame({'Numero muertes': (suicidios['2017'].append(suicidios[\"2018\"]).append(suicidios[\"2019\"]))})\n",
    "suic=pd.DataFrame({'Num suic': (suicidios.iloc[1:,3])})\n",
    "list_acc=list(suicidios.iloc[1:,3])\n",
    "x=list(filter(lambda num: num != 0, list_acc))\n",
    "\n",
    "bins=200\n",
    "plt.figure(figsize=(17,5))\n",
    "plt.hist(x, bins, density= True, label= \"suicidios\", color='red')\n",
    "plt.xlim((min(list_acc),max(list_acc)))\n",
    "plt.legend(loc=\"best\")\n",
    "plt.ylabel('Probabilidad')\n",
    "plt.grid()\n",
    "plt.show()"
   ]
  },
  {
   "cell_type": "markdown",
   "metadata": {},
   "source": [
    "## DISTRIBUCIÓN PARA SUICIDIOS"
   ]
  },
  {
   "cell_type": "code",
   "execution_count": 7,
   "metadata": {},
   "outputs": [],
   "source": [
    "# Función para obtener mejor distribución y parámetros\n",
    "\n",
    "def best_fit_distribution(data, bins=200, ax=None):\n",
    "    \"\"\"Model data by finding best fit distribution to data\"\"\"\n",
    "    # Get histogram of original data\n",
    "    y, x = np.histogram(data, bins=bins, density=True)\n",
    "    x = (x + np.roll(x, -1))[:-1] / 2.0\n",
    "\n",
    "    # Distributions to check\n",
    "    #DISTRIBUTIONS = [st.alpha,st.cauchy,st.cosine,st.laplace,st.levy,st.levy_l,st.norm]\n",
    "    DISTRIBUTIONS = [        \n",
    "        st.alpha,st.arcsine,st.beta,st.cauchy,st.chi,st.chi2,st.cosine,st.dweibull,st.erlang,st.expon,st.exponnorm,st.gamma,\n",
    "        st.laplace, st.logistic,st.maxwell,st.mielke,st.nakagami,st.norm,st.pareto,st.pearson3,st.rdist,st.reciprocal, st.rayleigh,st.rice,\n",
    "        st.semicircular,st.t,st.triang,st.truncexpon,st.truncnorm,st.tukeylambda, st.uniform,st.wrapcauchy\n",
    "    ]\n",
    "\n",
    "    # Best holders\n",
    "    best_distribution = st.norm\n",
    "    best_params = (0.0, 1.0)\n",
    "    best_sse = np.inf\n",
    "\n",
    "    # Estimate distribution parameters from data\n",
    "    for distribution in DISTRIBUTIONS:\n",
    "\n",
    "        # Try to fit the distribution\n",
    "        try:\n",
    "            # Ignore warnings from data that can't be fit\n",
    "            with warnings.catch_warnings():\n",
    "                warnings.filterwarnings('ignore')\n",
    "\n",
    "                # fit dist to data\n",
    "                params = distribution.fit(data)\n",
    "\n",
    "                # Separate parts of parameters\n",
    "                arg = params[:-2]\n",
    "                loc = params[-2]\n",
    "                scale = params[-1]\n",
    "\n",
    "                # Calculate fitted PDF and error with fit in distribution\n",
    "                pdf = distribution.pdf(x, loc=loc, scale=scale, *arg)\n",
    "                sse = np.sum(np.power(y - pdf, 2.0))\n",
    "\n",
    "                # if axis pass in add to plot\n",
    "                try:\n",
    "                    if ax:\n",
    "                        pd.Series(pdf, x).plot(ax=ax)\n",
    "                    end\n",
    "                except Exception:\n",
    "                    pass\n",
    "\n",
    "                # identify if this distribution is better\n",
    "                if best_sse > sse > 0:\n",
    "                    best_distribution = distribution\n",
    "                    best_params = params\n",
    "                    best_sse = sse\n",
    "\n",
    "        except Exception:\n",
    "            pass\n",
    "\n",
    "    return (best_distribution.name, best_params)"
   ]
  },
  {
   "cell_type": "code",
   "execution_count": 11,
   "metadata": {},
   "outputs": [
    {
     "data": {
      "text/plain": [
       "('mielke',\n",
       " (1.7844705262913387, 2.9769147573574912, -6.420271617620863, 655.43441482225))"
      ]
     },
     "execution_count": 11,
     "metadata": {},
     "output_type": "execute_result"
    }
   ],
   "source": [
    "dist_suicidios,para_suicidios=best_fit_distribution(suicidios.iloc[1:,3])\n",
    "dist_suicidios, para_suicidios"
   ]
  },
  {
   "cell_type": "markdown",
   "metadata": {},
   "source": [
    "Tenemos que el mejor ajuste para nuestros datos es una distribución MIELKE con los parametros dentro de la variable 'para_suicidios'. Pasaremos entonces a comproba la distribución con la prueba de Q-Q."
   ]
  },
  {
   "cell_type": "markdown",
   "metadata": {},
   "source": [
    "## PRUEBA QUANTIL QUANTIL"
   ]
  },
  {
   "cell_type": "code",
   "execution_count": 44,
   "metadata": {},
   "outputs": [
    {
     "data": {
      "image/png": "[encoded data removed]",
      "text/plain": [
       "<Figure size 432x288 with 1 Axes>"
      ]
     },
     "metadata": {
      "needs_background": "light"
     },
     "output_type": "display_data"
    },
    {
     "data": {
      "image/png": "[encoded data removed]",
      "text/plain": [
       "<Figure size 432x288 with 1 Axes>"
      ]
     },
     "metadata": {
      "needs_background": "light"
     },
     "output_type": "display_data"
    }
   ],
   "source": [
    "## Parámetros\n",
    "# para2 = st.beta.fit(data2)\n",
    "# para2\n",
    "\n",
    "# Histograma de las variables creadas\n",
    "divisiones = 60 # Cantidad de barras en el histograma\n",
    "plt.hist(suicidios.iloc[1:,3],divisiones,density=True)\n",
    "x = np.arange(min(suicidios.iloc[1:,3]),max(suicidios.iloc[1:,3]),.01)\n",
    "y = st.mielke.pdf(x,para_suicidios[0], para_suicidios[1], para_suicidios[2], para_suicidios[3])\n",
    "plt.plot(x,y,'r--')\n",
    "plt.ylabel('Probability')\n",
    "plt.grid()\n",
    "plt.show()\n",
    "\n",
    "# Gráfica de Q-Q entre las muestras creadas y una curva normal\n",
    "grap2 = st.probplot(suicidios.iloc[1:,3],(para_suicidios[0],para_suicidios[1], para_suicidios[2], para_suicidios[3]),dist=dist_suicidios, plot=plt)\n",
    "plt.grid()\n",
    "plt.xlabel('Mielke theorical quantiles')\n",
    "plt.ylabel('Data theorical quantiles')\n",
    "plt.show()"
   ]
  },
  {
   "cell_type": "markdown",
   "metadata": {},
   "source": [
    "## KERNEL"
   ]
  },
  {
   "cell_type": "code",
   "execution_count": 46,
   "metadata": {},
   "outputs": [
    {
     "data": {
      "text/plain": [
       "<matplotlib.legend.Legend at 0x21f438796a0>"
      ]
     },
     "execution_count": 46,
     "metadata": {},
     "output_type": "execute_result"
    },
    {
     "data": {
      "image/png": "[encoded data removed]",
      "text/plain": [
       "<Figure size 432x288 with 1 Axes>"
      ]
     },
     "metadata": {
      "needs_background": "light"
     },
     "output_type": "display_data"
    }
   ],
   "source": [
    "from sklearn.neighbors import KernelDensity\n",
    "from scipy.stats import gaussian_kde\n",
    "from statsmodels.nonparametric.kde import KDEUnivariate\n",
    "from statsmodels.nonparametric.kernel_density import KDEMultivariate\n",
    "\n",
    "def kde_sklearn(x, x_grid, bandwidth=0.2, **kwargs):\n",
    "    \"\"\"Kernel Density Estimation with Scikit-learn\"\"\"\n",
    "    kde_skl = KernelDensity(bandwidth=bandwidth, **kwargs)\n",
    "    kde_skl.fit(x[:, np.newaxis])\n",
    "    # score_samples() returns the log-likelihood of the samples\n",
    "    log_pdf = kde_skl.score_samples(x_grid[:, np.newaxis])\n",
    "    return np.exp(log_pdf)\n",
    "\n",
    "x_grid = np.linspace(min(suicidios.iloc[1:,3]),max(suicidios.iloc[1:,3]), 1000)\n",
    "\n",
    "fig, ax = plt.subplots()\n",
    "for bandwidth in [23,25,27]:\n",
    "    ax.plot(x_grid, kde_sklearn(suicidios.iloc[1:,3], x_grid, bandwidth=bandwidth),\n",
    "            label='bw={0}'.format(bandwidth), linewidth=3, alpha=0.5)\n",
    "ax.hist(suicidios.iloc[1:,3], 30, fc='lightgray', histtype='stepfilled', alpha=1, density=True)\n",
    "# ax.set_xlim(-4.5, 3.5)\n",
    "ax.legend(loc='upper left')"
   ]
  },
  {
   "cell_type": "markdown",
   "metadata": {},
   "source": [
    "Tomamos el $bw=25$"
   ]
  },
  {
   "cell_type": "code",
   "execution_count": 47,
   "metadata": {},
   "outputs": [
    {
     "data": {
      "image/png": "[encoded data removed]",
      "text/plain": [
       "<Figure size 432x288 with 1 Axes>"
      ]
     },
     "metadata": {
      "needs_background": "light"
     },
     "output_type": "display_data"
    }
   ],
   "source": [
    "#Variable aleatorias y aceptación y rechazo\n",
    "fig, ax = plt.subplots()\n",
    "ax.plot(x_grid, kde_sklearn(suicidios.iloc[1:,3], x_grid, bandwidth=25),\n",
    "        label='bw=0.5'.format(bandwidth), linewidth=3, alpha=0.5)\n",
    "ax.hist(suicidios.iloc[1:,3], 30, fc='lightgrey', histtype='stepfilled', alpha=1, density=True)\n",
    "ax.legend(loc='upper right')\n",
    "plt.show()"
   ]
  },
  {
   "cell_type": "code",
   "execution_count": 50,
   "metadata": {},
   "outputs": [
    {
     "data": {
      "text/plain": [
       "<function __main__.kde_sklearn2.<locals>.<lambda>(x)>"
      ]
     },
     "execution_count": 50,
     "metadata": {},
     "output_type": "execute_result"
    }
   ],
   "source": [
    "def kde_sklearn2(x, x_grid, bandwidth=0.2, **kwargs):\n",
    "    \"\"\"Kernel Density Estimation with Scikit-learn\"\"\"\n",
    "    kde_skl = KernelDensity(bandwidth=bandwidth, **kwargs)\n",
    "    kde_skl.fit(x[:, np.newaxis])\n",
    "    # score_samples() returns the log-likelihood of the samples\n",
    "    pdf = lambda x: np.exp(kde_skl.score_samples(x[:, np.newaxis]))\n",
    "    return pdf\n",
    "\n",
    "fx = kde_sklearn2(suicidios.iloc[1:,3],x_grid)\n",
    "fx"
   ]
  },
  {
   "cell_type": "markdown",
   "metadata": {},
   "source": [
    "## CHI CUADRADA"
   ]
  },
  {
   "cell_type": "markdown",
   "metadata": {},
   "source": [
    "## Prueba chi cuadrada\n",
    "\n",
    "**Para los datos totales de suicidio**\n",
    "\n",
    "\n",
    "$H_0$: MIELKE es la distribución de los valores \n",
    "\n",
    "$H_a$: MIELKE no es la distribución de los valores "
   ]
  },
  {
   "cell_type": "code",
   "execution_count": 39,
   "metadata": {},
   "outputs": [
    {
     "data": {
      "image/png": "[encoded data removed]",
      "text/plain": [
       "<Figure size 432x288 with 1 Axes>"
      ]
     },
     "metadata": {
      "needs_background": "light"
     },
     "output_type": "display_data"
    },
    {
     "name": "stdout",
     "output_type": "stream",
     "text": [
      "media muestral =949.025000, desviación estándar muestral =535.995266\n",
      "media real =605.588235, desviación real muestral =447.686587\n"
     ]
    }
   ],
   "source": [
    "J = 60  # Cantidad de particiones del histograma\n",
    "[freqs,xs,p]=plt.hist(suicidios.iloc[1:,3],J,density=True)\n",
    "plt.show()\n",
    "# Se obvia el último valor de x para obtener exactamente J muestras de x\n",
    "xs = xs[:-1] \n",
    "\n",
    "# Media y desviación estándar muestral\n",
    "mus = np.mean(xs)\n",
    "sigmas = np.std(xs)\n",
    "print('media muestral =%f, desviación estándar muestral =%f'%(mus,sigmas))\n",
    "print('media real =%f, desviación real muestral =%f'%(suicidios.iloc[1:,3].mean(),suicidios.iloc[1:,3].std()))"
   ]
  },
  {
   "cell_type": "code",
   "execution_count": 53,
   "metadata": {
    "scrolled": true
   },
   "outputs": [
    {
     "name": "stdout",
     "output_type": "stream",
     "text": [
      "Valor de chi cuadrado librería =  Power_divergenceResult(statistic=17.535851383011593, pvalue=0.9999999705295554)\n",
      "Estadístico de chi_cuadrado =  74.46832415930936\n",
      "Media muestral = 949.025000 \n",
      "Desviación estándar muestral =535.995266 \n"
     ]
    }
   ],
   "source": [
    "pi = st.mielke.pdf(xs,para_suicidios[0], para_suicidios[1],para_suicidios[2], para_suicidios[3])\n",
    "# Cálculo de la esperanza usando la expresión teórica\n",
    "Ei = xs*pi\n",
    "\n",
    "# Cálculo usando la librería estadística de la chi cuadrada\n",
    "Xs = st.chisquare(freqs,Ei)\n",
    "print('Valor de chi cuadrado librería = ',Xs)\n",
    "\n",
    "# Cálculo de Grados de libertad del estadístico\n",
    "p = 3 # Parámetros estimados con los datos\n",
    "m = J-p-1 # grados de libertad\n",
    "\n",
    "Chi_est2 = st.chi2.ppf(q = 0.95,df=m)\n",
    "print('Estadístico de chi_cuadrado = ',Chi_est2)\n",
    "print('Media muestral = %f \\nDesviación estándar muestral =%f '%(mus,sigmas))"
   ]
  },
  {
   "cell_type": "markdown",
   "metadata": {},
   "source": [
    "Como podemos observar el $p value>0.05$ por lo tanto se acepta la $H_0$"
   ]
  },
  {
   "cell_type": "code",
   "execution_count": null,
   "metadata": {},
   "outputs": [],
   "source": []
  },
  {
   "cell_type": "markdown",
   "metadata": {},
   "source": [
    "# <span style=\"background-color: green\">NODO DE MORTALIDAD"
   ]
  },
  {
   "cell_type": "markdown",
   "metadata": {},
   "source": [
    "## Media y desviación estandar"
   ]
  },
  {
   "cell_type": "code",
   "execution_count": null,
   "metadata": {},
   "outputs": [],
   "source": [
    "u_mort = mort['Total'].mean()\n",
    "\n",
    "devest_mort=mort['Total'].std()\n",
    "\n",
    "print('Media de mortalidad:', u_mort,'Desviación estd. mortalidad:', devest_mort)\n"
   ]
  },
  {
   "cell_type": "code",
   "execution_count": null,
   "metadata": {},
   "outputs": [],
   "source": [
    "morts = pd.DataFrame({'Numero muertes': (mort['2017'].append(mort[\"2018\"]).append(mort[\"2019\"]))})\n",
    "# morts = pd.DataFrame({'Numero muertes': mort['Total']})\n",
    "list_acc_m=list(mort.iloc[:,1])\n",
    "xmort=list(filter(lambda num: num != 0, list_acc_m))\n",
    "\n",
    "bins=200\n",
    "plt.figure(figsize=(16,8))\n",
    "plt.hist(xmort, bins, density= True, label= \"Muertes\", color='green')\n",
    "plt.xlim((min(list_acc_m)-20,max(list_acc_m)+20))\n",
    "plt.legend(loc=\"best\")\n",
    "plt.grid()\n",
    "plt.show()"
   ]
  },
  {
   "cell_type": "markdown",
   "metadata": {},
   "source": [
    "## DISTRIBUCIÓN PARA MORTALIDAD"
   ]
  },
  {
   "cell_type": "code",
   "execution_count": null,
   "metadata": {},
   "outputs": [],
   "source": [
    "best_fit_distribution(mort['Total'])"
   ]
  },
  {
   "cell_type": "markdown",
   "metadata": {},
   "source": [
    "Tenemos que el mejor ajuste para nuestros datos es una distribución normal con los parametros media cero y varianza 1"
   ]
  },
  {
   "cell_type": "markdown",
   "metadata": {},
   "source": [
    "## PRUEBA QUANTIL QUANTIL"
   ]
  },
  {
   "cell_type": "code",
   "execution_count": null,
   "metadata": {},
   "outputs": [],
   "source": [
    "para2=st.norm.fit(mort['Total'])\n",
    "# Histograma de las variables creadas\n",
    "divisiones = 100 # Cantidad de barras en el histograma\n",
    "plt.hist(mort['Total'], divisiones, density=True,label='Mortalidad')\n",
    "x = np.arange(18,90,.01)\n",
    "y2 = st.norm.pdf(x, loc=para2[0], scale=para2[1])\n",
    "plt.plot(x, y2, 'k--')\n",
    "plt.ylabel('Probability')\n",
    "plt.grid()\n",
    "plt.show()\n",
    "\n",
    "# Gráfica de Q-Q entre las muestras creadas y una curva normal\n",
    "st.probplot(mort['Total'], (para2[0],para2[1]), dist='norm', plot=plt)\n",
    "plt.grid()\n",
    "plt.title('Distribución normal')\n",
    "plt.xlabel('Normal theorical quantiles')\n",
    "plt.ylabel('Data theorical quantiles')\n",
    "plt.show()"
   ]
  },
  {
   "cell_type": "markdown",
   "metadata": {},
   "source": [
    "## CHI CUADRADA"
   ]
  },
  {
   "cell_type": "code",
   "execution_count": null,
   "metadata": {
    "scrolled": true
   },
   "outputs": [],
   "source": [
    "mu_real_m = u_mort; sigma_real_m = devest_mort\n",
    "N = 34*3 # Cantidad de muestras\n",
    "n2 = np.random.normal(mu_real_m, sigma_real_m, N)\n",
    "J = 90  # Cantidad de particiones del histograma\n",
    "[freq, x, _] = plt.hist(n2, J, density=True, color='green')\n",
    "plt.show()\n",
    "# Se obvia el último valor de x para obtener exactamente J muestras de x\n",
    "x_m = x[:-1] \n",
    "\n",
    "# Media y desviación estándar muestral\n",
    "mu_m = np.mean(x_m)\n",
    "sigma_m = np.std(x_m)\n",
    "print('media mu =%f, desviación estándar muestral =%f'%(mu_m,sigma_m))"
   ]
  },
  {
   "cell_type": "markdown",
   "metadata": {},
   "source": [
    "# <span style=\"background-color: purple\">NODO CAUSAS SUICIDIO</span>\n"
   ]
  },
  {
   "cell_type": "code",
   "execution_count": null,
   "metadata": {},
   "outputs": [],
   "source": [
    "u_causas = (causas['Total']).mean()\n",
    "\n",
    "devest_causas=(causas['Total']).std()\n",
    "\n",
    "print('Media de mortalidad:', u_causas,'Desviación estd. mortalidad:', devest_causas)\n"
   ]
  },
  {
   "cell_type": "code",
   "execution_count": null,
   "metadata": {},
   "outputs": [],
   "source": [
    "# cause = pd.DataFrame({'causas de suicidio': (causas['2010'].append(causas[\"2011\"]).append(causas[\"2012\"]).append(causas[\"2013\"]).append\\\n",
    "#                                               (causas[\"2014\"]).append(causas[\"2015\"]).append(causas[\"2016\"]).append(causas[\"2017\"]))})\n",
    "cause = pd.DataFrame({'causas de suicidio': (causas.iloc[4,:-1].append(causas.iloc[1,:-1]).append(causas.iloc[2,:-1]).append(causas.iloc[3,:-1]))})\n",
    "\n",
    "\n",
    "list_acc_c=list(causas.iloc[0,:-1])\n",
    "xcausas = list(filter(lambda num: num != 0, list_acc_c))\n",
    "\n",
    "bins=200\n",
    "plt.figure(figsize=(16,8))\n",
    "plt.hist(xcausas, bins, density= True, label= \"Causas de suicidio\", color='purple')\n",
    "plt.ylim(0,.02)\n",
    "plt.xlim((min(list_acc_c)-20,max(list_acc_c)+20))\n",
    "plt.legend(loc=\"best\")\n",
    "plt.grid()\n",
    "plt.show()"
   ]
  },
  {
   "cell_type": "markdown",
   "metadata": {},
   "source": [
    "## DISTRIBUCIÓN PARA CAUSA DE SUICIDIOS"
   ]
  },
  {
   "cell_type": "code",
   "execution_count": null,
   "metadata": {},
   "outputs": [],
   "source": [
    "best_fit_distribution((causas['Total']))"
   ]
  },
  {
   "cell_type": "markdown",
   "metadata": {},
   "source": [
    "Tenemos que el mejor ajuste para nuestros datos es una distribución normal con los parametros media cero y varianza 1"
   ]
  },
  {
   "cell_type": "markdown",
   "metadata": {},
   "source": [
    "## PRUEBA QUANTIL QUANTIL"
   ]
  },
  {
   "cell_type": "code",
   "execution_count": null,
   "metadata": {},
   "outputs": [],
   "source": [
    "para3=st.norm.fit(causas['Total'])\n",
    "# Histograma de las variables creadas\n",
    "divisiones = 100 # Cantidad de barras en el histograma\n",
    "plt.hist(causas['Total'], divisiones, density=True,label='Causas')\n",
    "x = np.arange(18,90,.01)\n",
    "y3 = st.norm.pdf(x, loc=para3[0], scale=para3[1])\n",
    "plt.plot(x, y3, 'k--')\n",
    "plt.ylabel('Probability')\n",
    "plt.grid()\n",
    "plt.show()\n",
    "\n",
    "# Gráfica de Q-Q entre las muestras creadas y una curva normal\n",
    "st.probplot(mort['Total'], (para2[0],para2[1]), dist='norm', plot=plt)\n",
    "plt.grid()\n",
    "plt.title('Distribución normal')\n",
    "plt.xlabel('Normal theorical quantiles')\n",
    "plt.ylabel('Data theorical quantiles')\n",
    "plt.show()"
   ]
  },
  {
   "cell_type": "markdown",
   "metadata": {},
   "source": [
    "## CHI CUADRADA"
   ]
  },
  {
   "cell_type": "code",
   "execution_count": null,
   "metadata": {
    "scrolled": false
   },
   "outputs": [],
   "source": [
    "mu_real_c = u_causas; sigma_real_c = devest_causas\n",
    "N = 34*3 # Cantidad de muestras\n",
    "n3 = np.random.normal(mu_real_c, sigma_real_c, N)\n",
    "J = 90  # Cantidad de particiones del histograma\n",
    "[freq, x, _] = plt.hist(n3, J, density=True, color='purple')\n",
    "plt.show()\n",
    "# Se obvia el último valor de x para obtener exactamente J muestras de x\n",
    "x_c = x[:-1] \n",
    "\n",
    "# Media y desviación estándar muestral\n",
    "mu_c = np.mean(x_c)\n",
    "sigma_c = np.std(x_c)\n",
    "print('media mu =%f, desviación estándar muestral =%f'%(mu_c,sigma_c))"
   ]
  },
  {
   "cell_type": "markdown",
   "metadata": {},
   "source": [
    "# <span style=\"background-color: orange\">NODO EDAD SUICIDIO</span>\n"
   ]
  },
  {
   "cell_type": "code",
   "execution_count": null,
   "metadata": {},
   "outputs": [],
   "source": [
    "u_edad = (edad['Total']).mean()\n",
    "\n",
    "devest_edad=(edad['Total']).std()\n",
    "\n",
    "print('Media de edad:', u_edad,'Desviación estd. edada:', devest_edad)\n"
   ]
  },
  {
   "cell_type": "code",
   "execution_count": null,
   "metadata": {},
   "outputs": [],
   "source": [
    "age = pd.DataFrame({'Edad de suicidio': (edad['2010'].append(edad[\"2011\"]).append(edad[\"2012\"]).append(edad[\"2013\"]).append  \\\n",
    "                                        (edad[\"2014\"]).append(edad[\"2015\"]).append(edad[\"2016\"]).append(edad[\"2017\"]))})\n",
    "\n",
    "list_acc_e=list(edad.iloc[0,:-1])\n",
    "xedad = list(filter(lambda num: num != 0, list_acc_e))\n",
    "\n",
    "bins=200\n",
    "plt.figure(figsize=(16,8))\n",
    "plt.hist(xedad, bins, density= True, label= \"Edad de las personas que comenten suicidio\", color='orange')\n",
    "plt.ylim(0,.014)\n",
    "plt.xlim((min(list_acc_e)-20,max(list_acc_e)+20))\n",
    "plt.legend(loc=\"best\")\n",
    "plt.grid()\n",
    "plt.show()"
   ]
  },
  {
   "cell_type": "markdown",
   "metadata": {},
   "source": [
    "## DISTRIBUCIÓN PARA SUICIDIOS"
   ]
  },
  {
   "cell_type": "code",
   "execution_count": null,
   "metadata": {},
   "outputs": [],
   "source": [
    "best_fit_distribution((edad['Total']))"
   ]
  },
  {
   "cell_type": "markdown",
   "metadata": {},
   "source": [
    "Tenemos que el mejor ajuste para nuestros datos es una distribución normal con los parametros media cero y varianza 1"
   ]
  },
  {
   "cell_type": "markdown",
   "metadata": {},
   "source": [
    "## PRUEBA QUANTIL QUANTIL"
   ]
  },
  {
   "cell_type": "code",
   "execution_count": null,
   "metadata": {},
   "outputs": [],
   "source": [
    "para4=st.norm.fit(edad['Total'])\n",
    "# Histograma de las variables creadas\n",
    "\n",
    "divisiones = 100 # Cantidad de barras en el histograma\n",
    "plt.hist(edad['Total'], divisiones, density=True,label='Edad')\n",
    "x = np.arange(18,90,.01)\n",
    "y4 = st.norm.pdf(x, loc=para4[0], scale=para4[1])\n",
    "plt.plot(x, y4, 'k--')\n",
    "plt.ylabel('Probability')\n",
    "plt.grid()\n",
    "plt.show()\n",
    "\n",
    "# Gráfica de Q-Q entre las muestras creadas y una curva normal\n",
    "st.probplot(mort['Total'], (para4[0],para4[1]), dist='norm', plot=plt)\n",
    "plt.grid()\n",
    "plt.title('Distribución normal')\n",
    "plt.xlabel('Normal theorical quantiles')\n",
    "plt.ylabel('Data theorical quantiles')\n",
    "plt.show()"
   ]
  },
  {
   "cell_type": "markdown",
   "metadata": {},
   "source": [
    "## CHI CUADRADA"
   ]
  },
  {
   "cell_type": "code",
   "execution_count": null,
   "metadata": {
    "scrolled": false
   },
   "outputs": [],
   "source": [
    "mu_real_e = u_edad; sigma_real_e = devest_edad\n",
    "N = 34*3 # Cantidad de muestras\n",
    "n4 = np.random.normal(mu_real_e, sigma_real_e, N)\n",
    "J = 90  # Cantidad de particiones del histograma\n",
    "[freq, x, _] = plt.hist(n4, J, density=True, color='orange')\n",
    "plt.show()\n",
    "# Se obvia el último valor de x para obtener exactamente J muestras de x\n",
    "x_e = x[:-1] \n",
    "\n",
    "# Media y desviación estándar muestral\n",
    "mu_e = np.mean(x_e)\n",
    "sigma_e = np.std(x_e)\n",
    "print('media mu =%f, desviación estándar muestral =%f'%(mu_e,sigma_e))"
   ]
  },
  {
   "cell_type": "code",
   "execution_count": null,
   "metadata": {},
   "outputs": [],
   "source": []
  },
  {
   "cell_type": "code",
   "execution_count": null,
   "metadata": {},
   "outputs": [],
   "source": []
  },
  {
   "cell_type": "code",
   "execution_count": null,
   "metadata": {},
   "outputs": [],
   "source": []
  },
  {
   "cell_type": "code",
   "execution_count": null,
   "metadata": {},
   "outputs": [],
   "source": []
  }
 ],
 "metadata": {
  "kernelspec": {
   "display_name": "Python 3",
   "language": "python",
   "name": "python3"
  },
  "language_info": {
   "codemirror_mode": {
    "name": "ipython",
    "version": 3
   },
   "file_extension": ".py",
   "mimetype": "text/x-python",
   "name": "python",
   "nbconvert_exporter": "python",
   "pygments_lexer": "ipython3",
   "version": "3.8.3"
  }
 },
 "nbformat": 4,
 "nbformat_minor": 4
}
